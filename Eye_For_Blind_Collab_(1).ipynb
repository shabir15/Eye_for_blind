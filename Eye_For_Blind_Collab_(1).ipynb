{
  "nbformat": 4,
  "nbformat_minor": 0,
  "metadata": {
    "colab": {
      "name": "Eye_For_Blind_Collab (1).ipynb",
      "provenance": [],
      "collapsed_sections": [],
      "include_colab_link": true
    },
    "kernelspec": {
      "name": "python3",
      "display_name": "Python 3"
    }
  },
  "cells": [
    {
      "cell_type": "markdown",
      "metadata": {
        "id": "view-in-github",
        "colab_type": "text"
      },
      "source": [
        "<a href=\"https://colab.research.google.com/github/shabir15/Eye_for_blind/blob/main/Eye_For_Blind_Collab_(1).ipynb\" target=\"_parent\"><img src=\"https://colab.research.google.com/assets/colab-badge.svg\" alt=\"Open In Colab\"/></a>"
      ]
    },
    {
      "cell_type": "code",
      "metadata": {
        "colab": {
          "base_uri": "https://localhost:8080/"
        },
        "id": "pGhJ701ZD1QP",
        "outputId": "0ba2826f-8a30-4c38-bb80-0d0432809b81"
      },
      "source": [
        "from google.colab import drive\r\n",
        "drive.mount('/content/drive')"
      ],
      "execution_count": 1,
      "outputs": [
        {
          "output_type": "stream",
          "text": [
            "Drive already mounted at /content/drive; to attempt to forcibly remount, call drive.mount(\"/content/drive\", force_remount=True).\n"
          ],
          "name": "stdout"
        }
      ]
    },
    {
      "cell_type": "code",
      "metadata": {
        "colab": {
          "base_uri": "https://localhost:8080/"
        },
        "id": "to0lUuaMyFqo",
        "outputId": "50ce730a-9d31-4bce-a0c1-e2922e2b195a"
      },
      "source": [
        "!pip uninstall keras\r\n",
        "!pip install keras==2.3.1\r\n",
        "!pip uninstall tensorflow\r\n",
        "!pip install tensorflow==2.2"
      ],
      "execution_count": 2,
      "outputs": [
        {
          "output_type": "stream",
          "text": [
            "Uninstalling Keras-2.4.3:\n",
            "  Would remove:\n",
            "    /usr/local/lib/python3.6/dist-packages/Keras-2.4.3.dist-info/*\n",
            "    /usr/local/lib/python3.6/dist-packages/docs/*\n",
            "    /usr/local/lib/python3.6/dist-packages/keras/*\n",
            "  Would not remove (might be manually added):\n",
            "    /usr/local/lib/python3.6/dist-packages/docs/md_autogen.py\n",
            "    /usr/local/lib/python3.6/dist-packages/docs/update_docs.py\n",
            "Proceed (y/n)? y\n",
            "  Successfully uninstalled Keras-2.4.3\n",
            "Collecting keras==2.3.1\n",
            "\u001b[?25l  Downloading https://files.pythonhosted.org/packages/ad/fd/6bfe87920d7f4fd475acd28500a42482b6b84479832bdc0fe9e589a60ceb/Keras-2.3.1-py2.py3-none-any.whl (377kB)\n",
            "\u001b[K     |████████████████████████████████| 378kB 5.4MB/s \n",
            "\u001b[?25hRequirement already satisfied: keras-preprocessing>=1.0.5 in /usr/local/lib/python3.6/dist-packages (from keras==2.3.1) (1.1.2)\n",
            "Requirement already satisfied: scipy>=0.14 in /usr/local/lib/python3.6/dist-packages (from keras==2.3.1) (1.4.1)\n",
            "Requirement already satisfied: pyyaml in /usr/local/lib/python3.6/dist-packages (from keras==2.3.1) (3.13)\n",
            "Requirement already satisfied: h5py in /usr/local/lib/python3.6/dist-packages (from keras==2.3.1) (2.10.0)\n",
            "Requirement already satisfied: numpy>=1.9.1 in /usr/local/lib/python3.6/dist-packages (from keras==2.3.1) (1.19.4)\n",
            "Collecting keras-applications>=1.0.6\n",
            "\u001b[?25l  Downloading https://files.pythonhosted.org/packages/71/e3/19762fdfc62877ae9102edf6342d71b28fbfd9dea3d2f96a882ce099b03f/Keras_Applications-1.0.8-py3-none-any.whl (50kB)\n",
            "\u001b[K     |████████████████████████████████| 51kB 5.3MB/s \n",
            "\u001b[?25hRequirement already satisfied: six>=1.9.0 in /usr/local/lib/python3.6/dist-packages (from keras==2.3.1) (1.15.0)\n",
            "Installing collected packages: keras-applications, keras\n",
            "Successfully installed keras-2.3.1 keras-applications-1.0.8\n",
            "Uninstalling tensorflow-2.4.0:\n",
            "  Would remove:\n",
            "    /usr/local/bin/estimator_ckpt_converter\n",
            "    /usr/local/bin/import_pb_to_tensorboard\n",
            "    /usr/local/bin/saved_model_cli\n",
            "    /usr/local/bin/tensorboard\n",
            "    /usr/local/bin/tf_upgrade_v2\n",
            "    /usr/local/bin/tflite_convert\n",
            "    /usr/local/bin/toco\n",
            "    /usr/local/bin/toco_from_protos\n",
            "    /usr/local/lib/python3.6/dist-packages/tensorflow-2.4.0.dist-info/*\n",
            "    /usr/local/lib/python3.6/dist-packages/tensorflow/*\n",
            "Proceed (y/n)? y\n",
            "  Successfully uninstalled tensorflow-2.4.0\n",
            "Collecting tensorflow==2.2\n",
            "\u001b[?25l  Downloading https://files.pythonhosted.org/packages/3d/be/679ce5254a8c8d07470efb4a4c00345fae91f766e64f1c2aece8796d7218/tensorflow-2.2.0-cp36-cp36m-manylinux2010_x86_64.whl (516.2MB)\n",
            "\u001b[K     |████████████████████████████████| 516.2MB 28kB/s \n",
            "\u001b[?25hRequirement already satisfied: h5py<2.11.0,>=2.10.0 in /usr/local/lib/python3.6/dist-packages (from tensorflow==2.2) (2.10.0)\n",
            "Requirement already satisfied: absl-py>=0.7.0 in /usr/local/lib/python3.6/dist-packages (from tensorflow==2.2) (0.10.0)\n",
            "Requirement already satisfied: six>=1.12.0 in /usr/local/lib/python3.6/dist-packages (from tensorflow==2.2) (1.15.0)\n",
            "Requirement already satisfied: gast==0.3.3 in /usr/local/lib/python3.6/dist-packages (from tensorflow==2.2) (0.3.3)\n",
            "Requirement already satisfied: numpy<2.0,>=1.16.0 in /usr/local/lib/python3.6/dist-packages (from tensorflow==2.2) (1.19.4)\n",
            "Requirement already satisfied: termcolor>=1.1.0 in /usr/local/lib/python3.6/dist-packages (from tensorflow==2.2) (1.1.0)\n",
            "Requirement already satisfied: protobuf>=3.8.0 in /usr/local/lib/python3.6/dist-packages (from tensorflow==2.2) (3.12.4)\n",
            "Requirement already satisfied: opt-einsum>=2.3.2 in /usr/local/lib/python3.6/dist-packages (from tensorflow==2.2) (3.3.0)\n",
            "Requirement already satisfied: wrapt>=1.11.1 in /usr/local/lib/python3.6/dist-packages (from tensorflow==2.2) (1.12.1)\n",
            "Requirement already satisfied: grpcio>=1.8.6 in /usr/local/lib/python3.6/dist-packages (from tensorflow==2.2) (1.32.0)\n",
            "Requirement already satisfied: wheel>=0.26; python_version >= \"3\" in /usr/local/lib/python3.6/dist-packages (from tensorflow==2.2) (0.36.2)\n",
            "Collecting tensorflow-estimator<2.3.0,>=2.2.0\n",
            "\u001b[?25l  Downloading https://files.pythonhosted.org/packages/a4/f5/926ae53d6a226ec0fda5208e0e581cffed895ccc89e36ba76a8e60895b78/tensorflow_estimator-2.2.0-py2.py3-none-any.whl (454kB)\n",
            "\u001b[K     |████████████████████████████████| 460kB 40.4MB/s \n",
            "\u001b[?25hRequirement already satisfied: scipy==1.4.1; python_version >= \"3\" in /usr/local/lib/python3.6/dist-packages (from tensorflow==2.2) (1.4.1)\n",
            "Collecting tensorboard<2.3.0,>=2.2.0\n",
            "\u001b[?25l  Downloading https://files.pythonhosted.org/packages/1d/74/0a6fcb206dcc72a6da9a62dd81784bfdbff5fedb099982861dc2219014fb/tensorboard-2.2.2-py3-none-any.whl (3.0MB)\n",
            "\u001b[K     |████████████████████████████████| 3.0MB 53.5MB/s \n",
            "\u001b[?25hRequirement already satisfied: keras-preprocessing>=1.1.0 in /usr/local/lib/python3.6/dist-packages (from tensorflow==2.2) (1.1.2)\n",
            "Requirement already satisfied: astunparse==1.6.3 in /usr/local/lib/python3.6/dist-packages (from tensorflow==2.2) (1.6.3)\n",
            "Requirement already satisfied: google-pasta>=0.1.8 in /usr/local/lib/python3.6/dist-packages (from tensorflow==2.2) (0.2.0)\n",
            "Requirement already satisfied: setuptools in /usr/local/lib/python3.6/dist-packages (from protobuf>=3.8.0->tensorflow==2.2) (51.0.0)\n",
            "Requirement already satisfied: markdown>=2.6.8 in /usr/local/lib/python3.6/dist-packages (from tensorboard<2.3.0,>=2.2.0->tensorflow==2.2) (3.3.3)\n",
            "Requirement already satisfied: requests<3,>=2.21.0 in /usr/local/lib/python3.6/dist-packages (from tensorboard<2.3.0,>=2.2.0->tensorflow==2.2) (2.23.0)\n",
            "Requirement already satisfied: werkzeug>=0.11.15 in /usr/local/lib/python3.6/dist-packages (from tensorboard<2.3.0,>=2.2.0->tensorflow==2.2) (1.0.1)\n",
            "Requirement already satisfied: google-auth<2,>=1.6.3 in /usr/local/lib/python3.6/dist-packages (from tensorboard<2.3.0,>=2.2.0->tensorflow==2.2) (1.17.2)\n",
            "Requirement already satisfied: google-auth-oauthlib<0.5,>=0.4.1 in /usr/local/lib/python3.6/dist-packages (from tensorboard<2.3.0,>=2.2.0->tensorflow==2.2) (0.4.2)\n",
            "Requirement already satisfied: tensorboard-plugin-wit>=1.6.0 in /usr/local/lib/python3.6/dist-packages (from tensorboard<2.3.0,>=2.2.0->tensorflow==2.2) (1.7.0)\n",
            "Requirement already satisfied: importlib-metadata; python_version < \"3.8\" in /usr/local/lib/python3.6/dist-packages (from markdown>=2.6.8->tensorboard<2.3.0,>=2.2.0->tensorflow==2.2) (3.3.0)\n",
            "Requirement already satisfied: certifi>=2017.4.17 in /usr/local/lib/python3.6/dist-packages (from requests<3,>=2.21.0->tensorboard<2.3.0,>=2.2.0->tensorflow==2.2) (2020.12.5)\n",
            "Requirement already satisfied: urllib3!=1.25.0,!=1.25.1,<1.26,>=1.21.1 in /usr/local/lib/python3.6/dist-packages (from requests<3,>=2.21.0->tensorboard<2.3.0,>=2.2.0->tensorflow==2.2) (1.24.3)\n",
            "Requirement already satisfied: idna<3,>=2.5 in /usr/local/lib/python3.6/dist-packages (from requests<3,>=2.21.0->tensorboard<2.3.0,>=2.2.0->tensorflow==2.2) (2.10)\n",
            "Requirement already satisfied: chardet<4,>=3.0.2 in /usr/local/lib/python3.6/dist-packages (from requests<3,>=2.21.0->tensorboard<2.3.0,>=2.2.0->tensorflow==2.2) (3.0.4)\n",
            "Requirement already satisfied: cachetools<5.0,>=2.0.0 in /usr/local/lib/python3.6/dist-packages (from google-auth<2,>=1.6.3->tensorboard<2.3.0,>=2.2.0->tensorflow==2.2) (4.2.0)\n",
            "Requirement already satisfied: rsa<5,>=3.1.4; python_version >= \"3\" in /usr/local/lib/python3.6/dist-packages (from google-auth<2,>=1.6.3->tensorboard<2.3.0,>=2.2.0->tensorflow==2.2) (4.6)\n",
            "Requirement already satisfied: pyasn1-modules>=0.2.1 in /usr/local/lib/python3.6/dist-packages (from google-auth<2,>=1.6.3->tensorboard<2.3.0,>=2.2.0->tensorflow==2.2) (0.2.8)\n",
            "Requirement already satisfied: requests-oauthlib>=0.7.0 in /usr/local/lib/python3.6/dist-packages (from google-auth-oauthlib<0.5,>=0.4.1->tensorboard<2.3.0,>=2.2.0->tensorflow==2.2) (1.3.0)\n",
            "Requirement already satisfied: typing-extensions>=3.6.4; python_version < \"3.8\" in /usr/local/lib/python3.6/dist-packages (from importlib-metadata; python_version < \"3.8\"->markdown>=2.6.8->tensorboard<2.3.0,>=2.2.0->tensorflow==2.2) (3.7.4.3)\n",
            "Requirement already satisfied: zipp>=0.5 in /usr/local/lib/python3.6/dist-packages (from importlib-metadata; python_version < \"3.8\"->markdown>=2.6.8->tensorboard<2.3.0,>=2.2.0->tensorflow==2.2) (3.4.0)\n",
            "Requirement already satisfied: pyasn1>=0.1.3 in /usr/local/lib/python3.6/dist-packages (from rsa<5,>=3.1.4; python_version >= \"3\"->google-auth<2,>=1.6.3->tensorboard<2.3.0,>=2.2.0->tensorflow==2.2) (0.4.8)\n",
            "Requirement already satisfied: oauthlib>=3.0.0 in /usr/local/lib/python3.6/dist-packages (from requests-oauthlib>=0.7.0->google-auth-oauthlib<0.5,>=0.4.1->tensorboard<2.3.0,>=2.2.0->tensorflow==2.2) (3.1.0)\n",
            "Installing collected packages: tensorflow-estimator, tensorboard, tensorflow\n",
            "  Found existing installation: tensorflow-estimator 2.4.0\n",
            "    Uninstalling tensorflow-estimator-2.4.0:\n",
            "      Successfully uninstalled tensorflow-estimator-2.4.0\n",
            "  Found existing installation: tensorboard 2.4.0\n",
            "    Uninstalling tensorboard-2.4.0:\n",
            "      Successfully uninstalled tensorboard-2.4.0\n",
            "Successfully installed tensorboard-2.2.2 tensorflow-2.2.0 tensorflow-estimator-2.2.0\n"
          ],
          "name": "stdout"
        }
      ]
    },
    {
      "cell_type": "code",
      "metadata": {
        "id": "3fVn7rjtExzI",
        "colab": {
          "base_uri": "https://localhost:8080/"
        },
        "outputId": "730d0bfb-29ce-4a80-c0d1-a54e1ea6641a"
      },
      "source": [
        "from os import listdir\r\n",
        "from pickle import dump\r\n",
        "from keras.applications.vgg16 import VGG16\r\n",
        "from keras.preprocessing.image import load_img\r\n",
        "from keras.preprocessing.image import img_to_array\r\n",
        "from keras.applications.vgg16 import preprocess_input\r\n",
        "from keras.models import Model\r\n",
        "\r\n",
        "# extract features from each photo in the directory\r\n",
        "def extract_features(directory):\r\n",
        "\t# load the model\r\n",
        "\tmodel = VGG16()\r\n",
        "\t# re-structure the model\r\n",
        "\tmodel = Model(inputs=model.inputs, outputs=model.layers[-2].output)\r\n",
        "\t# summarize\r\n",
        "\tprint(model.summary())\r\n",
        "\t# extract features from each photo\r\n",
        "\tfeatures = dict()\r\n",
        "\tfor name in listdir(directory):\r\n",
        "\t\t# load an image from file\r\n",
        "\t\tfilename = directory + '/' + name\r\n",
        "\t\timage = load_img(filename, target_size=(224, 224))\r\n",
        "\t\t# convert the image pixels to a numpy array\r\n",
        "\t\timage = img_to_array(image)\r\n",
        "\t\t# reshape data for the model\r\n",
        "\t\timage = image.reshape((1, image.shape[0], image.shape[1], image.shape[2]))\r\n",
        "\t\t# prepare the image for the VGG model\r\n",
        "\t\timage = preprocess_input(image)\r\n",
        "\t\t# get features\r\n",
        "\t\tfeature = model.predict(image, verbose=0)\r\n",
        "\t\t# get image id\r\n",
        "\t\timage_id = name.split('.')[0]\r\n",
        "\t\t# store feature\r\n",
        "\t\tfeatures[image_id] = feature\r\n",
        "\t\tprint('>%s' % name)\r\n",
        "\treturn features\r\n",
        "\r\n"
      ],
      "execution_count": 2,
      "outputs": [
        {
          "output_type": "stream",
          "text": [
            "Using TensorFlow backend.\n"
          ],
          "name": "stderr"
        }
      ]
    },
    {
      "cell_type": "code",
      "metadata": {
        "id": "_UEkpWHxE3mD"
      },
      "source": [
        "# extract features from all images\r\n",
        "directory = 'Images'\r\n",
        "features = extract_features(directory)\r\n",
        "print('Extracted Features: %d' % len(features))\r\n",
        "# save to file\r\n",
        "dump(features, open('features1.pkl', 'wb'))"
      ],
      "execution_count": null,
      "outputs": []
    },
    {
      "cell_type": "code",
      "metadata": {
        "colab": {
          "base_uri": "https://localhost:8080/"
        },
        "id": "JgnNvyNaE5Uv",
        "outputId": "cca44f07-2ac0-4b84-cf20-236f1bd1293c"
      },
      "source": [
        "import string\r\n",
        " \r\n",
        "# load doc into memory\r\n",
        "def load_doc(filename):\r\n",
        "\t# open the file as read only\r\n",
        "\tfile = open(filename, 'r')\r\n",
        "\t# read all text\r\n",
        "\ttext = file.read()\r\n",
        "\t# close the file\r\n",
        "\tfile.close()\r\n",
        "\treturn text\r\n",
        " \r\n",
        "# extract descriptions for images\r\n",
        "def load_descriptions(doc):\r\n",
        "\tmapping = dict()\r\n",
        "\t# process lines\r\n",
        "\tfor line in doc.split('\\n'):\r\n",
        "\t\t# split line by white space\r\n",
        "\t\ttokens = line.split()\r\n",
        "\t\tif len(line) < 2:\r\n",
        "\t\t\tcontinue\r\n",
        "\t\t# take the first token as the image id, the rest as the description\r\n",
        "\t\timage_id, image_desc = tokens[0], tokens[1:]\r\n",
        "\t\t# remove filename from image id\r\n",
        "\t\timage_id = image_id.split('.')[0]\r\n",
        "\t\t# convert description tokens back to string\r\n",
        "\t\timage_desc = ' '.join(image_desc)\r\n",
        "\t\t# create the list if needed\r\n",
        "\t\tif image_id not in mapping:\r\n",
        "\t\t\tmapping[image_id] = list()\r\n",
        "\t\t# store description\r\n",
        "\t\tmapping[image_id].append(image_desc)\r\n",
        "\treturn mapping\r\n",
        " \r\n",
        "def clean_descriptions(descriptions):\r\n",
        "\t# prepare translation table for removing punctuation\r\n",
        "\ttable = str.maketrans('', '', string.punctuation)\r\n",
        "\tfor key, desc_list in descriptions.items():\r\n",
        "\t\tfor i in range(len(desc_list)):\r\n",
        "\t\t\tdesc = desc_list[i]\r\n",
        "\t\t\t# tokenize\r\n",
        "\t\t\tdesc = desc.split()\r\n",
        "\t\t\t# convert to lower case\r\n",
        "\t\t\tdesc = [word.lower() for word in desc]\r\n",
        "\t\t\t# remove punctuation from each token\r\n",
        "\t\t\tdesc = [w.translate(table) for w in desc]\r\n",
        "\t\t\t# remove hanging 's' and 'a'\r\n",
        "\t\t\tdesc = [word for word in desc if len(word)>1]\r\n",
        "\t\t\t# remove tokens with numbers in them\r\n",
        "\t\t\tdesc = [word for word in desc if word.isalpha()]\r\n",
        "\t\t\t# store as string\r\n",
        "\t\t\tdesc_list[i] =  ' '.join(desc)\r\n",
        " \r\n",
        "# convert the loaded descriptions into a vocabulary of words\r\n",
        "def to_vocabulary(descriptions):\r\n",
        "\t# build a list of all description strings\r\n",
        "\tall_desc = set()\r\n",
        "\tfor key in descriptions.keys():\r\n",
        "\t\t[all_desc.update(d.split()) for d in descriptions[key]]\r\n",
        "\treturn all_desc\r\n",
        " \r\n",
        "# save descriptions to file, one per line\r\n",
        "def save_descriptions(descriptions, filename):\r\n",
        "\tlines = list()\r\n",
        "\tfor key, desc_list in descriptions.items():\r\n",
        "\t\tfor desc in desc_list:\r\n",
        "\t\t\tlines.append(key + ' ' + desc)\r\n",
        "\tdata = '\\n'.join(lines)\r\n",
        "\tfile = open(filename, 'w')\r\n",
        "\tfile.write(data)\r\n",
        "\tfile.close()\r\n",
        " \r\n",
        "filename = 'drive/MyDrive/Flickr8k.token.txt'\r\n",
        "# load descriptions\r\n",
        "doc = load_doc(filename)\r\n",
        "# parse descriptions\r\n",
        "descriptions = load_descriptions(doc)\r\n",
        "print('Loaded: %d ' % len(descriptions))\r\n",
        "# clean descriptions\r\n",
        "clean_descriptions(descriptions)\r\n",
        "# summarize vocabulary\r\n",
        "vocabulary = to_vocabulary(descriptions)\r\n",
        "print('Vocabulary Size: %d' % len(vocabulary))\r\n",
        "# save to file\r\n",
        "save_descriptions(descriptions, 'descriptions.txt')"
      ],
      "execution_count": 3,
      "outputs": [
        {
          "output_type": "stream",
          "text": [
            "Loaded: 8092 \n",
            "Vocabulary Size: 8763\n"
          ],
          "name": "stdout"
        }
      ]
    },
    {
      "cell_type": "code",
      "metadata": {
        "colab": {
          "base_uri": "https://localhost:8080/"
        },
        "id": "Mb9yxOR-HXD4",
        "outputId": "efec51b4-071a-4e08-df76-68e77b9c9218"
      },
      "source": [
        "\r\n",
        "from pickle import load\r\n",
        " \r\n",
        "# load doc into memory\r\n",
        "def load_doc(filename):\r\n",
        "\t# open the file as read only\r\n",
        "\tfile = open(filename, 'r')\r\n",
        "\t# read all text\r\n",
        "\ttext = file.read()\r\n",
        "\t# close the file\r\n",
        "\tfile.close()\r\n",
        "\treturn text\r\n",
        " \r\n",
        "# load a pre-defined list of photo identifiers\r\n",
        "def load_set(filename):\r\n",
        "\tdoc = load_doc(filename)\r\n",
        "\tdataset = list()\r\n",
        "\t# process line by line\r\n",
        "\tfor line in doc.split('\\n'):\r\n",
        "\t\t# skip empty lines\r\n",
        "\t\tif len(line) < 1:\r\n",
        "\t\t\tcontinue\r\n",
        "\t\t# get the image identifier\r\n",
        "\t\tidentifier = line.split('.')[0]\r\n",
        "\t\tdataset.append(identifier)\r\n",
        "\treturn set(dataset)\r\n",
        " \r\n",
        "# load clean descriptions into memory\r\n",
        "def load_clean_descriptions(filename, dataset):\r\n",
        "\t# load document\r\n",
        "\tdoc = load_doc(filename)\r\n",
        "\tdescriptions = dict()\r\n",
        "\tfor line in doc.split('\\n'):\r\n",
        "\t\t# split line by white space\r\n",
        "\t\ttokens = line.split()\r\n",
        "\t\t# split id from description\r\n",
        "\t\timage_id, image_desc = tokens[0], tokens[1:]\r\n",
        "\t\t# skip images not in the set\r\n",
        "\t\tif image_id in dataset:\r\n",
        "\t\t\t# create list\r\n",
        "\t\t\tif image_id not in descriptions:\r\n",
        "\t\t\t\tdescriptions[image_id] = list()\r\n",
        "\t\t\t# wrap description in tokens\r\n",
        "\t\t\tdesc = 'startseq ' + ' '.join(image_desc) + ' endseq'\r\n",
        "\t\t\t# store\r\n",
        "\t\t\tdescriptions[image_id].append(desc)\r\n",
        "\treturn descriptions\r\n",
        " \r\n",
        "# load photo features\r\n",
        "def load_photo_features(filename, dataset):\r\n",
        "\t# load all features\r\n",
        "\tall_features = load(open(filename, 'rb'))\r\n",
        "\t# filter features\r\n",
        "\tfeatures = {k: all_features[k] for k in dataset}\r\n",
        "\treturn features\r\n",
        " \r\n",
        "# load training dataset (6K)\r\n",
        "filename = 'drive/MyDrive/Flickr_8k.trainImages.txt'\r\n",
        "train = load_set(filename)\r\n",
        "print('Dataset: %d' % len(train))\r\n",
        "# descriptions\r\n",
        "train_descriptions = load_clean_descriptions('descriptions.txt', train)\r\n",
        "print('Descriptions: train=%d' % len(train_descriptions))\r\n",
        "# photo features\r\n",
        "train_features = load_photo_features('drive/MyDrive/features.pkl', train)\r\n",
        "print('Photos: train=%d' % len(train_features))"
      ],
      "execution_count": 4,
      "outputs": [
        {
          "output_type": "stream",
          "text": [
            "Dataset: 6000\n",
            "Descriptions: train=6000\n",
            "Photos: train=6000\n"
          ],
          "name": "stdout"
        }
      ]
    },
    {
      "cell_type": "code",
      "metadata": {
        "id": "JlDyxFl1IRxV"
      },
      "source": [
        "from numpy import array\r\n",
        "from pickle import load\r\n",
        "from keras.preprocessing.text import Tokenizer\r\n",
        "from keras.preprocessing.sequence import pad_sequences\r\n",
        "from keras.utils import to_categorical\r\n",
        "from keras.utils import plot_model\r\n",
        "from keras.models import Model\r\n",
        "from keras.layers import Input\r\n",
        "from keras.layers import Dense\r\n",
        "from keras.layers import LSTM\r\n",
        "from keras.layers import Embedding\r\n",
        "from keras.layers import Dropout\r\n",
        "from keras.layers.merge import add\r\n",
        "from keras.callbacks import ModelCheckpoint"
      ],
      "execution_count": 5,
      "outputs": []
    },
    {
      "cell_type": "code",
      "metadata": {
        "colab": {
          "base_uri": "https://localhost:8080/"
        },
        "id": "93wYzYORIIDU",
        "outputId": "241c6df7-49cd-4ddc-e586-a800a37f3bf3"
      },
      "source": [
        "\r\n",
        "# convert a dictionary of clean descriptions to a list of descriptions\r\n",
        "def to_lines(descriptions):\r\n",
        "\tall_desc = list()\r\n",
        "\tfor key in descriptions.keys():\r\n",
        "\t\t[all_desc.append(d) for d in descriptions[key]]\r\n",
        "\treturn all_desc\r\n",
        " \r\n",
        "# fit a tokenizer given caption descriptions\r\n",
        "def create_tokenizer(descriptions):\r\n",
        "\tlines = to_lines(descriptions)\r\n",
        "\ttokenizer = Tokenizer()\r\n",
        "\ttokenizer.fit_on_texts(lines)\r\n",
        "\treturn tokenizer\r\n",
        " \r\n",
        "# prepare tokenizer\r\n",
        "tokenizer = create_tokenizer(train_descriptions)\r\n",
        "vocab_size = len(tokenizer.word_index) + 1\r\n",
        "print('Vocabulary Size: %d' % vocab_size)"
      ],
      "execution_count": 6,
      "outputs": [
        {
          "output_type": "stream",
          "text": [
            "Vocabulary Size: 7579\n"
          ],
          "name": "stdout"
        }
      ]
    },
    {
      "cell_type": "code",
      "metadata": {
        "id": "wEwAJXjbm4Tj"
      },
      "source": [
        "# calculate the length of the description with the most words\r\n",
        "def max_length(descriptions):\r\n",
        "\tlines = to_lines(descriptions)\r\n",
        "\treturn max(len(d.split()) for d in lines)"
      ],
      "execution_count": 52,
      "outputs": []
    },
    {
      "cell_type": "code",
      "metadata": {
        "colab": {
          "base_uri": "https://localhost:8080/"
        },
        "id": "knwkBQ0vsreR",
        "outputId": "a01103ed-a383-4fbb-dfd9-2861873b86e1"
      },
      "source": [
        "# create sequences of images, input sequences and output words for an image\r\n",
        "def create_sequences(tokenizer, max_length, desc_list, photo, vocab_size):\r\n",
        "\tX1, X2, y = list(), list(), list()\r\n",
        "\t# walk through each description for the image\r\n",
        "\tfor desc in desc_list:\r\n",
        "\t\t# encode the sequence\r\n",
        "\t\tseq = tokenizer.texts_to_sequences([desc])[0]\r\n",
        "\t\t# split one sequence into multiple X,y pairs\r\n",
        "\t\tfor i in range(1, len(seq)):\r\n",
        "\t\t\t# split into input and output pair\r\n",
        "\t\t\tin_seq, out_seq = seq[:i], seq[i]\r\n",
        "\t\t\t# pad input sequence\r\n",
        "\t\t\tin_seq = pad_sequences([in_seq], maxlen=max_length)[0]\r\n",
        "\t\t\t# encode output sequence\r\n",
        "\t\t\tout_seq = to_categorical([out_seq], num_classes=vocab_size)[0]\r\n",
        "\t\t\t# store\r\n",
        "\t\t\tX1.append(photo)\r\n",
        "\t\t\tX2.append(in_seq)\r\n",
        "\t\t\ty.append(out_seq)\r\n",
        "\treturn array(X1), array(X2), array(y)\r\n",
        " \r\n",
        "# define the captioning model\r\n",
        "def define_model(vocab_size, max_length):\r\n",
        "\t# feature extractor model\r\n",
        "\tinputs1 = Input(shape=(4096,))\r\n",
        "\tfe1 = Dropout(0.5)(inputs1)\r\n",
        "\tfe2 = Dense(256, activation='relu')(fe1)\r\n",
        "\t# sequence model\r\n",
        "\tinputs2 = Input(shape=(max_length,))\r\n",
        "\tse1 = Embedding(vocab_size, 256, mask_zero=True)(inputs2)\r\n",
        "\tse2 = Dropout(0.5)(se1)\r\n",
        "\tse3 = LSTM(256)(se2)\r\n",
        "\t# decoder model\r\n",
        "\tdecoder1 = add([fe2, se3])\r\n",
        "\tdecoder2 = Dense(256, activation='relu')(decoder1)\r\n",
        "\toutputs = Dense(vocab_size, activation='softmax')(decoder2)\r\n",
        "\t# tie it together [image, seq] [word]\r\n",
        "\tmodel = Model(inputs=[inputs1, inputs2], outputs=outputs)\r\n",
        "\t# compile model\r\n",
        "\tmodel.compile(loss='categorical_crossentropy', optimizer='adam')\r\n",
        "\t# summarize model\r\n",
        "\tmodel.summary()\r\n",
        "\tplot_model(model, to_file='model.png', show_shapes=True)\r\n",
        "\treturn model\r\n",
        " \r\n",
        "# data generator, intended to be used in a call to model.fit_generator()\r\n",
        "def data_generator(descriptions, photos, tokenizer, max_length, vocab_size):\r\n",
        "\t# loop for ever over images\r\n",
        "\twhile 1:\r\n",
        "\t\tfor key, desc_list in descriptions.items():\r\n",
        "\t\t\t# retrieve the photo feature\r\n",
        "\t\t\tphoto = photos[key][0]\r\n",
        "\t\t\tin_img, in_seq, out_word = create_sequences(tokenizer, max_length, desc_list, photo, vocab_size)\r\n",
        "\t\t\tyield [[in_img, in_seq], out_word]\r\n",
        " \r\n",
        "# load training dataset (6K)\r\n",
        "filename = 'drive/MyDrive/Flickr_8k.trainImages.txt'\r\n",
        "train = load_set(filename)\r\n",
        "print('Dataset: %d' % len(train))\r\n",
        "# descriptions\r\n",
        "train_descriptions = load_clean_descriptions('/content/drive/MyDrive/descriptions.txt', train)\r\n",
        "print('Descriptions: train=%d' % len(train_descriptions))\r\n",
        "# photo features\r\n",
        "train_features = load_photo_features('/content/drive/MyDrive/features.pkl', train)\r\n",
        "print('Photos: train=%d' % len(train_features))\r\n",
        "# prepare tokenizer\r\n",
        "tokenizer = create_tokenizer(train_descriptions)\r\n",
        "vocab_size = len(tokenizer.word_index) + 1\r\n",
        "print('Vocabulary Size: %d' % vocab_size)\r\n",
        "# determine the maximum sequence length\r\n",
        "max_length = max_length(train_descriptions)\r\n",
        "print('Description Length: %d' % max_length)\r\n",
        " \r\n",
        "# define the model\r\n",
        "model = define_model(vocab_size, max_length)\r\n",
        "# train the model, run epochs manually and save after each epoch\r\n",
        "epochs = 3\r\n",
        "steps = len(train_descriptions)\r\n",
        "for i in range(epochs):\r\n",
        "\t# create the data generator\r\n",
        "\tgenerator = data_generator(train_descriptions, train_features, tokenizer, max_length, vocab_size)\r\n",
        "\t# fit for one epoch\r\n",
        "\tmodel.fit_generator(generator, epochs=1, steps_per_epoch=steps, verbose=1)\r\n",
        "\t# save model\r\n",
        "\tmodel.save('model_' + str(i) + '.h5')\r\n",
        "\t"
      ],
      "execution_count": null,
      "outputs": [
        {
          "output_type": "stream",
          "text": [
            "Dataset: 6000\n",
            "Descriptions: train=6000\n",
            "Photos: train=6000\n",
            "Vocabulary Size: 7579\n",
            "Description Length: 34\n",
            "Model: \"model_1\"\n",
            "__________________________________________________________________________________________________\n",
            "Layer (type)                    Output Shape         Param #     Connected to                     \n",
            "==================================================================================================\n",
            "input_2 (InputLayer)            (None, 34)           0                                            \n",
            "__________________________________________________________________________________________________\n",
            "input_1 (InputLayer)            (None, 4096)         0                                            \n",
            "__________________________________________________________________________________________________\n",
            "embedding_1 (Embedding)         (None, 34, 256)      1940224     input_2[0][0]                    \n",
            "__________________________________________________________________________________________________\n",
            "dropout_1 (Dropout)             (None, 4096)         0           input_1[0][0]                    \n",
            "__________________________________________________________________________________________________\n",
            "dropout_2 (Dropout)             (None, 34, 256)      0           embedding_1[0][0]                \n",
            "__________________________________________________________________________________________________\n",
            "dense_1 (Dense)                 (None, 256)          1048832     dropout_1[0][0]                  \n",
            "__________________________________________________________________________________________________\n",
            "lstm_1 (LSTM)                   (None, 256)          525312      dropout_2[0][0]                  \n",
            "__________________________________________________________________________________________________\n",
            "add_1 (Add)                     (None, 256)          0           dense_1[0][0]                    \n",
            "                                                                 lstm_1[0][0]                     \n",
            "__________________________________________________________________________________________________\n",
            "dense_2 (Dense)                 (None, 256)          65792       add_1[0][0]                      \n",
            "__________________________________________________________________________________________________\n",
            "dense_3 (Dense)                 (None, 7579)         1947803     dense_2[0][0]                    \n",
            "==================================================================================================\n",
            "Total params: 5,527,963\n",
            "Trainable params: 5,527,963\n",
            "Non-trainable params: 0\n",
            "__________________________________________________________________________________________________\n"
          ],
          "name": "stdout"
        },
        {
          "output_type": "stream",
          "text": [
            "/usr/local/lib/python3.6/dist-packages/tensorflow/python/framework/indexed_slices.py:434: UserWarning: Converting sparse IndexedSlices to a dense Tensor of unknown shape. This may consume a large amount of memory.\n",
            "  \"Converting sparse IndexedSlices to a dense Tensor of unknown shape. \"\n"
          ],
          "name": "stderr"
        },
        {
          "output_type": "stream",
          "text": [
            "Epoch 1/1\n",
            " 200/6000 [>.............................] - ETA: 34:52 - loss: 6.2092"
          ],
          "name": "stdout"
        }
      ]
    },
    {
      "cell_type": "markdown",
      "metadata": {
        "id": "TsRdR5prulTF"
      },
      "source": [
        "**Evaluation**"
      ]
    },
    {
      "cell_type": "code",
      "metadata": {
        "id": "vsfqDSb6O47A"
      },
      "source": [
        "import tensorflow as tf\r\n",
        "from keras.models import load_model\r\n",
        "from numpy import argmax\r\n",
        "from nltk.translate.bleu_score import corpus_bleu\r\n",
        "from keras.models import load_model"
      ],
      "execution_count": 19,
      "outputs": []
    },
    {
      "cell_type": "code",
      "metadata": {
        "id": "DIrkQRmOaFRZ"
      },
      "source": [
        "\r\n",
        "# map an integer to a word\r\n",
        "def word_for_id(integer, tokenizer):\r\n",
        "\tfor word, index in tokenizer.word_index.items():\r\n",
        "\t\tif index == integer:\r\n",
        "\t\t\treturn word\r\n",
        "\treturn None\r\n",
        " \r\n",
        "# generate a description for an image\r\n",
        "def generate_desc(model, tokenizer, photo, max_length):\r\n",
        "\t# seed the generation process\r\n",
        "\tin_text = 'startseq'\r\n",
        "\t# iterate over the whole length of the sequence\r\n",
        "\tfor i in range(max_length):\r\n",
        "\t\t# integer encode input sequence\r\n",
        "\t\tsequence = tokenizer.texts_to_sequences([in_text])[0]\r\n",
        "\t\t# pad input\r\n",
        "\t\tsequence = pad_sequences([sequence], maxlen=max_length)\r\n",
        "\t\t# predict next word\r\n",
        "\t\tyhat = model.predict([photo,sequence], verbose=0)\r\n",
        "\t\t# convert probability to integer\r\n",
        "\t\tyhat = argmax(yhat)\r\n",
        "\t\t# map integer to word\r\n",
        "\t\tword = word_for_id(yhat, tokenizer)\r\n",
        "\t\t# stop if we cannot map the word\r\n",
        "\t\tif word is None:\r\n",
        "\t\t\tbreak\r\n",
        "\t\t# append as input for generating the next word\r\n",
        "\t\tin_text += ' ' + word\r\n",
        "\t\t# stop if we predict the end of the sequence\r\n",
        "\t\tif word == 'endseq':\r\n",
        "\t\t\tbreak\r\n",
        "\treturn in_text"
      ],
      "execution_count": 36,
      "outputs": []
    },
    {
      "cell_type": "code",
      "metadata": {
        "id": "iK5LZvl8avzw"
      },
      "source": [
        "def evaluate_model(model, descriptions, photos, tokenizer, max_length):\r\n",
        "\tactual, predicted = list(), list()\r\n",
        "\t# step over the whole set\r\n",
        "\tfor key, desc_list in descriptions.items():\r\n",
        "\t\t# generate description\r\n",
        "\t\tyhat = generate_desc(model, tokenizer, photos[key], max_length)\r\n",
        "\t\t# store actual and predicted\r\n",
        "\t\treferences = [d.split() for d in desc_list]\r\n",
        "\t\tactual.append(references)\r\n",
        "\t\tpredicted.append(yhat.split())\r\n",
        "\t# calculate BLEU score\r\n",
        "\tprint('BLEU-1: %f' % corpus_bleu(actual, predicted, weights=(1.0, 0, 0, 0)))\r\n",
        "\tprint('BLEU-2: %f' % corpus_bleu(actual, predicted, weights=(0.5, 0.5, 0, 0)))\r\n",
        "\tprint('BLEU-3: %f' % corpus_bleu(actual, predicted, weights=(0.3, 0.3, 0.3, 0)))\r\n",
        "\tprint('BLEU-4: %f' % corpus_bleu(actual, predicted, weights=(0.25, 0.25, 0.25, 0.25)))"
      ],
      "execution_count": 37,
      "outputs": []
    },
    {
      "cell_type": "code",
      "metadata": {
        "colab": {
          "base_uri": "https://localhost:8080/"
        },
        "id": "nXncqqHa6qsF",
        "outputId": "594471a0-21a3-427b-8958-00167b1a643e"
      },
      "source": [
        "# prepare tokenizer on train set\r\n",
        " \r\n",
        "# load training dataset (6K)\r\n",
        "filename = 'drive/MyDrive/Flickr_8k.trainImages.txt'\r\n",
        "train = load_set(filename)\r\n",
        "print('Dataset: %d' % len(train))\r\n",
        "# descriptions\r\n",
        "train_descriptions = load_clean_descriptions('descriptions.txt', train)\r\n",
        "print('Descriptions: train=%d' % len(train_descriptions))\r\n",
        "# prepare tokenizer\r\n",
        "tokenizer = create_tokenizer(train_descriptions)\r\n",
        "vocab_size = len(tokenizer.word_index) + 1\r\n",
        "print('Vocabulary Size: %d' % vocab_size)\r\n",
        "# determine the maximum sequence length\r\n",
        "max_length = max_length(train_descriptions)\r\n",
        "print('Description Length: %d' % max_length)\r\n",
        " \r\n",
        "# prepare test set\r\n",
        " \r\n",
        "# load test set\r\n",
        "filename = 'drive/MyDrive/Flickr_8k.testImages.txt'\r\n",
        "test = load_set(filename)\r\n",
        "print('Dataset: %d' % len(test))\r\n",
        "# descriptions\r\n",
        "test_descriptions = load_clean_descriptions('descriptions.txt', test)\r\n",
        "print('Descriptions: test=%d' % len(test_descriptions))\r\n",
        "# photo features\r\n",
        "test_features = load_photo_features('/content/drive/MyDrive/features.pkl', test)\r\n",
        "print('Photos: test=%d' % len(test_features))\r\n",
        " \r\n",
        "# load the model\r\n",
        "filename = 'model_5.h5'\r\n",
        "model = load_model(filename)\r\n",
        "# evaluate model\r\n",
        "evaluate_model(model, test_descriptions, test_features, tokenizer, max_length)"
      ],
      "execution_count": 53,
      "outputs": [
        {
          "output_type": "stream",
          "text": [
            "Dataset: 6000\n",
            "Descriptions: train=6000\n",
            "Vocabulary Size: 7579\n",
            "Description Length: 34\n",
            "Dataset: 1000\n",
            "Descriptions: test=1000\n",
            "Photos: test=1000\n"
          ],
          "name": "stdout"
        },
        {
          "output_type": "stream",
          "text": [
            "/usr/local/lib/python3.6/dist-packages/tensorflow/python/framework/indexed_slices.py:434: UserWarning: Converting sparse IndexedSlices to a dense Tensor of unknown shape. This may consume a large amount of memory.\n",
            "  \"Converting sparse IndexedSlices to a dense Tensor of unknown shape. \"\n"
          ],
          "name": "stderr"
        },
        {
          "output_type": "stream",
          "text": [
            "BLEU-1: 0.529401\n",
            "BLEU-2: 0.284599\n",
            "BLEU-3: 0.194836\n",
            "BLEU-4: 0.088569\n"
          ],
          "name": "stdout"
        }
      ]
    },
    {
      "cell_type": "code",
      "metadata": {
        "id": "_mA3PHrTfLNo"
      },
      "source": [
        "dump(tokenizer, open('tokenizer.pkl', 'wb'))"
      ],
      "execution_count": 54,
      "outputs": []
    },
    {
      "cell_type": "code",
      "metadata": {
        "id": "LPynxLxvfLZW"
      },
      "source": [
        "\r\n",
        "# load the tokenizer\r\n",
        "tokenizer = load(open('tokenizer.pkl', 'rb'))\r\n",
        "# pre-define the max sequence length (from training)\r\n",
        "max_length = 34"
      ],
      "execution_count": 55,
      "outputs": []
    },
    {
      "cell_type": "code",
      "metadata": {
        "colab": {
          "base_uri": "https://localhost:8080/"
        },
        "id": "JO9Dq2hifLcj",
        "outputId": "c7435cbb-183e-443e-f215-06096965e80c"
      },
      "source": [
        "# load the model\r\n",
        "model = load_model('model_5.h5')"
      ],
      "execution_count": 56,
      "outputs": [
        {
          "output_type": "stream",
          "text": [
            "/usr/local/lib/python3.6/dist-packages/tensorflow/python/framework/indexed_slices.py:434: UserWarning: Converting sparse IndexedSlices to a dense Tensor of unknown shape. This may consume a large amount of memory.\n",
            "  \"Converting sparse IndexedSlices to a dense Tensor of unknown shape. \"\n"
          ],
          "name": "stderr"
        }
      ]
    },
    {
      "cell_type": "code",
      "metadata": {
        "id": "Nf7LvAHCgCoF"
      },
      "source": [
        "def extract_features(filename):\r\n",
        "\t# load the model\r\n",
        "\tmodel = VGG16()\r\n",
        "\t# re-structure the model\r\n",
        "\tmodel = Model(inputs=model.inputs, outputs=model.layers[-2].output)\r\n",
        "\t# load the photo\r\n",
        "\timage = load_img(filename, target_size=(224, 224))\r\n",
        "\t# convert the image pixels to a numpy array\r\n",
        "\timage = img_to_array(image)\r\n",
        "\t# reshape data for the model\r\n",
        "\timage = image.reshape((1, image.shape[0], image.shape[1], image.shape[2]))\r\n",
        "\t# prepare the image for the VGG model\r\n",
        "\timage = preprocess_input(image)\r\n",
        "\t# get features\r\n",
        "\tfeature = model.predict(image, verbose=0)\r\n",
        "\treturn feature\r\n",
        " \r\n",
        "# load and prepare the photograph\r\n",
        "photo = extract_features('example2.jpg')"
      ],
      "execution_count": 57,
      "outputs": []
    },
    {
      "cell_type": "code",
      "metadata": {
        "colab": {
          "base_uri": "https://localhost:8080/"
        },
        "id": "9GUopOCchena",
        "outputId": "db4f7734-b6fa-4a45-ecad-aabcd54a99ca"
      },
      "source": [
        "description = generate_desc(model, tokenizer, photo, max_length)\r\n",
        "print(description)"
      ],
      "execution_count": 58,
      "outputs": [
        {
          "output_type": "stream",
          "text": [
            "startseq man rides bike on dirt road endseq\n"
          ],
          "name": "stdout"
        }
      ]
    }
  ]
}